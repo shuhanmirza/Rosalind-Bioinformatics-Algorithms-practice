{
 "cells": [
  {
   "cell_type": "markdown",
   "metadata": {},
   "source": [
    "5A"
   ]
  },
  {
   "cell_type": "code",
   "execution_count": 3,
   "metadata": {},
   "outputs": [
    {
     "name": "stdout",
     "output_type": "stream",
     "text": [
      "2\n"
     ]
    }
   ],
   "source": [
    "import sys\n",
    "import numpy as np\n",
    "\n",
    "\n",
    "coins = [1,5,10,20,25,50]\n",
    "V = 40\n",
    "\n",
    "def minCoins(coins,V,coin): \n",
    "    if V == 0:\n",
    "        return 0\n",
    "   \n",
    "    m = len(coins)\n",
    "\n",
    "    ret = 99999999999999999999999999999999999999999\n",
    "    i = 0\n",
    "    while i < m:\n",
    "        if coins[i] <= V:\n",
    "            tmp = minCoins(coins,V-coins[i],coins[i])\n",
    "            \n",
    "            if (tmp + 1) < ret:\n",
    "                ret = tmp + 1\n",
    "        i+=1\n",
    "        \n",
    "    return ret\n",
    "\n",
    "res = minCoins(coins,V,0)\n",
    "print(res)"
   ]
  },
  {
   "cell_type": "markdown",
   "metadata": {},
   "source": [
    "5B"
   ]
  },
  {
   "cell_type": "code",
   "execution_count": 18,
   "metadata": {},
   "outputs": [
    {
     "name": "stdout",
     "output_type": "stream",
     "text": [
      "34\n"
     ]
    }
   ],
   "source": [
    "n = 4 \n",
    "m = 4\n",
    "down = [[1, 0, 2, 4, 3],\n",
    "[4, 6, 5, 2, 1],\n",
    "[4, 4, 5, 2, 1],\n",
    "[5, 6, 8, 5, 3]]\n",
    "\n",
    "right = [[3, 2, 4, 0],\n",
    "[3, 2, 4, 2],\n",
    "[0, 7, 3, 3],\n",
    "[3, 3, 0, 2],\n",
    "[1, 3, 2, 2]]\n",
    "\n",
    "mat = np.full((n+1,m+1),-1)\n",
    "\n",
    "def manhattanAlgo(x ,y):\n",
    "    #print(str(x) + \" \" + str(y))\n",
    "    \n",
    "    #print(mat)\n",
    "    \n",
    "    if mat[x][y] != -1:\n",
    "        return mat[x][y]\n",
    "    \n",
    "    elif x == 0 and y == 0:\n",
    "        mat[x][y] = 0\n",
    "        return mat[x][y]\n",
    "    elif x == 0:\n",
    "        mat[x][y-1] = manhattanAlgo(x,y-1)\n",
    "        return mat[x][y-1]+down[y-1][x]\n",
    "    elif y == 0:\n",
    "        mat[x-1][y] = manhattanAlgo(x-1,y)\n",
    "        return mat[x-1][y]+right[y][x-1]\n",
    "    \n",
    "    \n",
    "    mat[x][y-1] = manhattanAlgo(x,y-1)\n",
    "    mat[x-1][y] = manhattanAlgo(x-1,y)\n",
    "    \n",
    "    ret = max(mat[x-1][y]+right[y][x-1], mat[x][y-1]+down[y-1][x])\n",
    "    \n",
    "    #print(str(x) + \" \" + str(y))\n",
    "    \n",
    "    return ret\n",
    "    \n",
    "    \n",
    "    \n",
    "    \n",
    "mat[n][m] = manhattanAlgo(n,m)\n",
    "\n",
    "ans = mat[n][m]\n",
    "\n",
    "print(ans)"
   ]
  },
  {
   "cell_type": "code",
   "execution_count": null,
   "metadata": {},
   "outputs": [],
   "source": []
  }
 ],
 "metadata": {
  "kernelspec": {
   "display_name": "Python 3",
   "language": "python",
   "name": "python3"
  },
  "language_info": {
   "codemirror_mode": {
    "name": "ipython",
    "version": 3
   },
   "file_extension": ".py",
   "mimetype": "text/x-python",
   "name": "python",
   "nbconvert_exporter": "python",
   "pygments_lexer": "ipython3",
   "version": "3.6.5"
  }
 },
 "nbformat": 4,
 "nbformat_minor": 2
}
