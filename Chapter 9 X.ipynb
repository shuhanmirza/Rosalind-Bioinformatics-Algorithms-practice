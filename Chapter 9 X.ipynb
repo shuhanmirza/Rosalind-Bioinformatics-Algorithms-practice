{
 "cells": [
  {
   "cell_type": "markdown",
   "metadata": {},
   "source": [
    "A"
   ]
  },
  {
   "cell_type": "code",
   "execution_count": 10,
   "metadata": {},
   "outputs": [
    {
     "name": "stdout",
     "output_type": "stream",
     "text": [
      "0->1:A\n",
      "1->2:T\n",
      "2->3:A\n",
      "3->4:G\n",
      "4->5:A\n",
      "2->6:C\n",
      "0->7:G\n",
      "7->8:A\n",
      "8->9:T\n"
     ]
    }
   ],
   "source": [
    "patterns = ['ATAGA',\n",
    "'ATC',\n",
    "'GAT']\n",
    "\n",
    "trie = [[-1,'']]\n",
    "\n",
    "def search(x,val):\n",
    "    i = 0\n",
    "    while i < len(trie):\n",
    "        if trie[i][1] == val:\n",
    "            if trie[i][0] == x:\n",
    "                return i\n",
    "        \n",
    "        i+=1\n",
    "        \n",
    "    return -1\n",
    "    \n",
    "i = 0\n",
    "while i < len(patterns):\n",
    "    currentNode = 0\n",
    "    \n",
    "    j = 0\n",
    "    while j < len(patterns[i]):\n",
    "        tmp = search(currentNode,patterns[i][j])\n",
    "        \n",
    "        if tmp > -1:\n",
    "            currentNode = tmp\n",
    "        else:\n",
    "            trie.append([currentNode,patterns[i][j]])\n",
    "            currentNode = len(trie) - 1\n",
    "            \n",
    "            print (str(trie[currentNode][0]) + '->'+ str(currentNode) + ':'+patterns[i][j])\n",
    "            \n",
    "        #print(trie)\n",
    "        j+=1\n",
    "        \n",
    "    i+=1\n",
    "        "
   ]
  },
  {
   "cell_type": "markdown",
   "metadata": {},
   "source": [
    "B"
   ]
  },
  {
   "cell_type": "code",
   "execution_count": 21,
   "metadata": {},
   "outputs": [
    {
     "name": "stdout",
     "output_type": "stream",
     "text": [
      "1 4 11 15 "
     ]
    }
   ],
   "source": [
    "text = 'AATCGGGTTCAATCGGGGT'\n",
    "patterns = ['ATCG','GGGT']\n",
    "\n",
    "trie = [[-1,'']]\n",
    "leaf = []\n",
    "\n",
    "def search(x,val):\n",
    "    i = 0\n",
    "    while i < len(trie):\n",
    "        if trie[i][1] == val:\n",
    "            if trie[i][0] == x:\n",
    "                return i\n",
    "        \n",
    "        i+=1\n",
    "        \n",
    "    return -1\n",
    "    \n",
    "i = 0\n",
    "while i < len(patterns):\n",
    "    currentNode = 0\n",
    "    \n",
    "    j = 0\n",
    "    while j < len(patterns[i]):\n",
    "        tmp = search(currentNode,patterns[i][j])\n",
    "        \n",
    "        if tmp > -1:\n",
    "            currentNode = tmp\n",
    "        else:\n",
    "            trie.append([currentNode,patterns[i][j]])\n",
    "            currentNode = len(trie) - 1\n",
    "            \n",
    "            #print (str(trie[currentNode][0]) + '->'+ str(currentNode) + ':'+patterns[i][j])\n",
    "            \n",
    "        #print(trie)\n",
    "        j+=1\n",
    "    \n",
    "    leaf.append(len(trie) - 1)\n",
    "    \n",
    "    i+=1\n",
    "    \n",
    "#print (leaf)\n",
    "#print (trie)\n",
    "i  = 0\n",
    "while i < len(text):\n",
    "    currentNode = 0\n",
    "    if search(currentNode,text[i]) > -1:\n",
    "        j = i\n",
    "        currentNode = search(currentNode,text[j])\n",
    "        while 1:\n",
    "            j+=1\n",
    "            if j >= len(text):\n",
    "                break\n",
    "            tmp = search(currentNode,text[j])\n",
    "            \n",
    "            if tmp > -1:\n",
    "                currentNode = tmp\n",
    "                if tmp in leaf:\n",
    "                    print(i,end = ' ')\n",
    "            else:\n",
    "                break\n",
    "    i+=1\n",
    "            \n",
    "\n",
    "    "
   ]
  },
  {
   "cell_type": "markdown",
   "metadata": {},
   "source": [
    "I"
   ]
  },
  {
   "cell_type": "code",
   "execution_count": 2,
   "metadata": {},
   "outputs": [
    {
     "name": "stdout",
     "output_type": "stream",
     "text": [
      "ACTGGCT$TGCGGC\n"
     ]
    }
   ],
   "source": [
    "def rotations(sequence):\n",
    "    superSequence = sequence * 2\n",
    "    allRotations = []\n",
    "    for index in range(0, len(sequence)):\n",
    "        allRotations.append(superSequence[index:index+len(sequence)])\n",
    "    return allRotations\n",
    "\n",
    "\n",
    "sequence = \"GCGTGCCTGGTCA$\"\n",
    "\n",
    "allRotations = sorted(rotations(sequence))\n",
    "lastSequences = ''.join(map(lambda x:x[-1], allRotations))\n",
    "print (lastSequences)\n",
    "# print sequence"
   ]
  },
  {
   "cell_type": "markdown",
   "metadata": {},
   "source": [
    "J"
   ]
  },
  {
   "cell_type": "code",
   "execution_count": null,
   "metadata": {},
   "outputs": [],
   "source": []
  },
  {
   "cell_type": "markdown",
   "metadata": {},
   "source": [
    "K"
   ]
  },
  {
   "cell_type": "code",
   "execution_count": 5,
   "metadata": {},
   "outputs": [
    {
     "name": "stdout",
     "output_type": "stream",
     "text": [
      "0\n"
     ]
    }
   ],
   "source": [
    "transform = 'T$GACCA'\n",
    "index = 3\n",
    "\n",
    "character = transform[index]\n",
    "\n",
    "occurenceNumber = 0\n",
    "\n",
    "for i in range(0, index + 1):\n",
    "    if transform[i] == character:\n",
    "        occurenceNumber += 1\n",
    "\n",
    "fList = ''.join(sorted(transform)[1:])\n",
    "\n",
    "searchNumber = 0\n",
    "for i in range(0, len(fList)):\n",
    "    if fList[i] == character:\n",
    "        searchNumber += 1\n",
    "        if searchNumber == occurenceNumber:\n",
    "            print (i)\n",
    "            break"
   ]
  },
  {
   "cell_type": "markdown",
   "metadata": {},
   "source": [
    "L"
   ]
  },
  {
   "cell_type": "code",
   "execution_count": 6,
   "metadata": {},
   "outputs": [
    {
     "name": "stdout",
     "output_type": "stream",
     "text": [
      "2 1 1 0 1\n"
     ]
    }
   ],
   "source": [
    "def lastToFirst(lastColumn, index):\n",
    "    transform = lastColumn\n",
    "\n",
    "    character = transform[index]\n",
    "    # print \"character\", character\n",
    "    occurenceNumber = 0\n",
    "\n",
    "    for i in range(0, index + 1):\n",
    "        if transform[i] == character:\n",
    "            occurenceNumber += 1\n",
    "\n",
    "    fList = ''.join(sorted(transform))\n",
    "    # print \"transform\", len(transform)\n",
    "    # print \"fList\", len(fList)\n",
    "\n",
    "    searchNumber = 0\n",
    "    for i in range(0, len(fList)):\n",
    "        if fList[i] == character:\n",
    "            searchNumber += 1\n",
    "            if searchNumber == occurenceNumber:\n",
    "                return i\n",
    "                break\n",
    "    return 0\n",
    "\n",
    "def bwMatching(lastColumn, pattern):\n",
    "    top = 0\n",
    "    bottom = len(lastColumn) - 1\n",
    "    # print \"bottom\", bottom\n",
    "    while top <= bottom:\n",
    "        if pattern != \"\":\n",
    "            symbol = pattern[-1]\n",
    "            pattern = pattern[:-1]\n",
    "            # print \"symbol\", symbol\n",
    "            if symbol in lastColumn:\n",
    "                topIndex = -1\n",
    "                bottomIndex = -1\n",
    "                for i  in range(top, bottom + 1):\n",
    "                    if lastColumn[i] == symbol:\n",
    "                        if topIndex == -1:\n",
    "                            topIndex = i\n",
    "                        bottomIndex = i\n",
    "                # print \"topIndex\", topIndex, bottomIndex\n",
    "                if topIndex == -1:\n",
    "                    return 0\n",
    "                # print topIndex, bottomIndex\n",
    "                top = lastToFirst(lastColumn, topIndex)\n",
    "                bottom = lastToFirst(lastColumn, bottomIndex)\n",
    "                # print top, bottom\n",
    "            else:\n",
    "                return 0\n",
    "        else:\n",
    "            return bottom - top + 1\n",
    "\n",
    "\n",
    "\n",
    "\n",
    "# print lastToFirst('T$GACCA', 3)\n",
    "\n",
    "\n",
    "lastColumn = 'TCCTCTATGAGATCCTATTCTATGAAACCTTCA$GACCAAAATTCTCCGGC'\n",
    "patterns = ['CCT', 'CAC', 'GAG', 'CAG', 'ATC']\n",
    "output = list()\n",
    "for index in range(0, len(patterns)):\n",
    "    # print patterns[index]\n",
    "    output.append(bwMatching(lastColumn, patterns[index]))\n",
    "\n",
    "# print \"\".join(output)\n",
    "print(\" \".join(map(str,output)))"
   ]
  },
  {
   "cell_type": "markdown",
   "metadata": {},
   "source": [
    "M"
   ]
  },
  {
   "cell_type": "code",
   "execution_count": 8,
   "metadata": {},
   "outputs": [
    {
     "name": "stdout",
     "output_type": "stream",
     "text": [
      "1 2 1\n"
     ]
    }
   ],
   "source": [
    "def betterBWMatching(lastColumn, pattern, firstIndex):\n",
    "    top = 0\n",
    "    bottom = len(lastColumn) - 1\n",
    "    while top <= bottom:\n",
    "        if pattern != \"\":\n",
    "            symbol = pattern[-1]\n",
    "            # print symbol\n",
    "            pattern = pattern[:-1]\n",
    "            if symbol in lastColumn:\n",
    "                topIndex = -1\n",
    "                # bottomIndex = -1\n",
    "                symbolCountTop = 0\n",
    "                symbolCountBottom = 0\n",
    "                # for i in range(0, top):\n",
    "                #     if lastColumn[i] == symbol:\n",
    "                #         symbolCountTop += 1\n",
    "                        # if topIndex == -1:\n",
    "                        #     topIndex = i\n",
    "                        # bottomIndex = i\n",
    "\n",
    "                for i in range(0, bottom + 1):\n",
    "                    # print lastColumn[i]\n",
    "                    if lastColumn[i] == symbol:\n",
    "                        if (i < top):\n",
    "                            symbolCountTop += 1\n",
    "                        symbolCountBottom += 1\n",
    "                        # if i >= top:\n",
    "                        if topIndex == -1:\n",
    "                            topIndex = i\n",
    "                            # bottomIndex = i\n",
    "                # print \"topIndex\", topIndex\n",
    "                # symbolCountTop += symbolCountBottom\n",
    "                # print symbolCountTop, symbolCountBottom\n",
    "                if topIndex == -1:\n",
    "                    return 0\n",
    "                # print \"firstIndex\", firstIndex[symbol]\n",
    "                top = firstIndex[symbol] + symbolCountTop\n",
    "                bottom = firstIndex[symbol] + symbolCountBottom - 1\n",
    "                # print \"top, bottom\", top, bottom\n",
    "            else:\n",
    "                 return 0\n",
    "        else:\n",
    "            return bottom - top + 1\n",
    "    return bottom - top + 1\n",
    "\n",
    "\n",
    "# print lastToFirst('T$GACCA', 3)\n",
    "\n",
    "\n",
    "lastColumn = 'GGCGCCGC$TAGTCACACACGCCGTA'\n",
    "# print lastColumn\n",
    "# firstIndices = [0, 0, 0, 0]\n",
    "firstIndices = list()\n",
    "firstIndices.append(0)\n",
    "firstIndices.append(1)\n",
    "fList = ''.join(sorted(lastColumn))\n",
    "# print fList\n",
    "for i in range(1, len(fList) - 1):\n",
    "    if fList[i] != fList[i + 1]:\n",
    "        firstIndices.append(i + 1)\n",
    "\n",
    "firstIndex = {\n",
    "    \"$\" : firstIndices[0],\n",
    "    \"A\" : firstIndices[1],\n",
    "    \"C\" : firstIndices[2],\n",
    "    \"G\" : firstIndices[3],\n",
    "    \"T\" : firstIndices[4]\n",
    "}\n",
    "patterns = ['ACC', 'CCG', 'CAG']\n",
    "output = list()\n",
    "for index in range(0, len(patterns)):\n",
    "    # print patterns[index]\n",
    "    # print betterBWMatching(lastColumn, patterns[index], firstIndex)\n",
    "    output.append(betterBWMatching(lastColumn, patterns[index], firstIndex))\n",
    "\n",
    "# print \"\".join(output)\n",
    "print(\" \".join(map(str,output)))"
   ]
  },
  {
   "cell_type": "markdown",
   "metadata": {},
   "source": [
    "N"
   ]
  },
  {
   "cell_type": "code",
   "execution_count": null,
   "metadata": {},
   "outputs": [],
   "source": []
  }
 ],
 "metadata": {
  "kernelspec": {
   "display_name": "Python 3",
   "language": "python",
   "name": "python3"
  },
  "language_info": {
   "codemirror_mode": {
    "name": "ipython",
    "version": 3
   },
   "file_extension": ".py",
   "mimetype": "text/x-python",
   "name": "python",
   "nbconvert_exporter": "python",
   "pygments_lexer": "ipython3",
   "version": "3.6.5"
  }
 },
 "nbformat": 4,
 "nbformat_minor": 2
}
