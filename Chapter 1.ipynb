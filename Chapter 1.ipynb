{
 "cells": [
  {
   "cell_type": "code",
   "execution_count": null,
   "metadata": {},
   "outputs": [],
   "source": [
    "A"
   ]
  },
  {
   "cell_type": "code",
   "execution_count": null,
   "metadata": {},
   "outputs": [],
   "source": []
  },
  {
   "cell_type": "code",
   "execution_count": null,
   "metadata": {},
   "outputs": [],
   "source": [
    "B"
   ]
  },
  {
   "cell_type": "code",
   "execution_count": null,
   "metadata": {},
   "outputs": [],
   "source": []
  },
  {
   "cell_type": "code",
   "execution_count": null,
   "metadata": {},
   "outputs": [],
   "source": [
    "C"
   ]
  },
  {
   "cell_type": "code",
   "execution_count": 6,
   "metadata": {},
   "outputs": [
    {
     "name": "stdout",
     "output_type": "stream",
     "text": [
      "ACCGGGTTTT\n"
     ]
    }
   ],
   "source": [
    "def revComplement(dna):\n",
    "    \n",
    "    l = len(dna)\n",
    "    i = l - 1\n",
    "    \n",
    "    dnaOUT = \"\"\n",
    "    \n",
    "    while i >= 0:\n",
    "        if dna[i] == 'A':\n",
    "            dnaOUT += 'T'\n",
    "        \n",
    "        elif dna[i] == 'C':\n",
    "            dnaOUT += 'G'\n",
    "        \n",
    "        elif dna[i] == 'T':\n",
    "            dnaOUT += 'A'\n",
    "        \n",
    "        elif dna[i] == 'G':\n",
    "            dnaOUT += 'C'\n",
    "            \n",
    "        i = i - 1\n",
    "    \n",
    "    return dnaOUT   \n",
    "\n",
    "dna = \"AAAACCCGGT\"\n",
    "print (revComplement(dna))"
   ]
  },
  {
   "cell_type": "code",
   "execution_count": null,
   "metadata": {},
   "outputs": [],
   "source": [
    "D"
   ]
  },
  {
   "cell_type": "code",
   "execution_count": null,
   "metadata": {},
   "outputs": [],
   "source": []
  },
  {
   "cell_type": "code",
   "execution_count": null,
   "metadata": {},
   "outputs": [],
   "source": [
    "E"
   ]
  },
  {
   "cell_type": "code",
   "execution_count": 2,
   "metadata": {},
   "outputs": [
    {
     "name": "stdout",
     "output_type": "stream",
     "text": [
      "CGACA GAAGA AATGT "
     ]
    }
   ],
   "source": [
    "dna = \"CGGACTCGACAGATGTGAAGAAATGTGAAGACTGAGTGAAGAGAAGAGGAAACACGACACGACATTGCGACATAATGTACGAATGTAATGTGCCTATGGC\"\n",
    "L = 75\n",
    "K = 5\n",
    "T = 4\n",
    "\n",
    "pattern = []\n",
    "i = 0\n",
    "\n",
    "res=[]\n",
    "occur = []\n",
    "\n",
    "while i < len(dna)-L + 1:\n",
    "    tmp = dna[i:L+i]\n",
    "    pattern = []\n",
    "    #print len(tmp)\n",
    "    j = 0\n",
    "    while j < L-K+1:\n",
    "        pattern.append(tmp[j:K+j])\n",
    "        j = j + 1\n",
    "    #print res\n",
    "    \n",
    "    x = 0\n",
    "    while x < len(pattern):\n",
    "        n = tmp.count(pattern[x])\n",
    "        if n >= T:\n",
    "            #print pattern[x] + \"==>\",\n",
    "            #print n\n",
    "            if pattern[x] not in res:\n",
    "                res.append(pattern[x])\n",
    "        x = x+1\n",
    "    i = i + 1\n",
    "\n",
    "i = 0\n",
    "while i < len(res):\n",
    "    print(res[i], end=\" \")\n",
    "    i = i + 1"
   ]
  },
  {
   "cell_type": "code",
   "execution_count": null,
   "metadata": {},
   "outputs": [],
   "source": [
    "F"
   ]
  },
  {
   "cell_type": "code",
   "execution_count": 4,
   "metadata": {},
   "outputs": [
    {
     "name": "stdout",
     "output_type": "stream",
     "text": [
      "53 97 "
     ]
    }
   ],
   "source": [
    "str = \"CCTATCGGTGGATTAGCATGTCCCTGTACGTTTCGCCGCGAACTAGTTCACACGGCTTGATGGCAAATGGTTTTTCCGGCGACCGTAATCGTCCACCGAG\"\n",
    "\n",
    "l = len(str)\n",
    "sk = []\n",
    "i = 0\n",
    "dif = 0\n",
    "minSkPos = []\n",
    "minSk = 10100101\n",
    "while i < l:\n",
    "    sk.append(dif)\n",
    "    if str[i] == 'C':\n",
    "        dif = dif - 1\n",
    "    if str[i] == 'G':\n",
    "        dif += 1\n",
    "    if dif < minSk:\n",
    "        minSkPos = []\n",
    "        minSk = dif\n",
    "    if dif == minSk:\n",
    "        minSkPos.append(i+1)\n",
    "    i = i+1\n",
    "\n",
    "#print sk\n",
    "#print minSk\n",
    "#print minSkPos\n",
    "i = 0\n",
    "while i < len(minSkPos):\n",
    "    print(minSkPos[i], end=\" \")\n",
    "    i = i + 1"
   ]
  },
  {
   "cell_type": "markdown",
   "metadata": {},
   "source": [
    "G"
   ]
  },
  {
   "cell_type": "code",
   "execution_count": 9,
   "metadata": {},
   "outputs": [
    {
     "name": "stdout",
     "output_type": "stream",
     "text": [
      "3\n"
     ]
    }
   ],
   "source": [
    "def HammingDistance(p,q):\n",
    "    \n",
    "    l = len(p)\n",
    "    i = 0\n",
    "    \n",
    "    hmd = 0\n",
    "    \n",
    "    while i < l :\n",
    "        if(p[i] != q[i]):\n",
    "            hmd = hmd + 1\n",
    "        i = i + 1\n",
    "        \n",
    "    return hmd\n",
    "\n",
    "p = \"GGGCCGTTGGT\"\n",
    "q = \"GGACCGTTGAC\"\n",
    "\n",
    "print (HammingDistance(p,q))"
   ]
  },
  {
   "cell_type": "markdown",
   "metadata": {},
   "source": [
    "H"
   ]
  },
  {
   "cell_type": "code",
   "execution_count": 11,
   "metadata": {},
   "outputs": [
    {
     "name": "stdout",
     "output_type": "stream",
     "text": [
      "6 7 26 27 78 "
     ]
    }
   ],
   "source": [
    "p = \"ATTCTGGA\"\n",
    "t = \"CGCCCGAATCCAGAACGCATTCCCATATTTCGGGACCACTGGCCTCCACGGTACGGACGTCAATCAAATGCCTAGCGGCTTGTGGTTTCTCCTACGCTCC\"\n",
    "d = 3\n",
    "\n",
    "l = len(p)\n",
    "lt = len(t)\n",
    "\n",
    "k = 0\n",
    "while k < lt - l + 1:\n",
    "    #print t[k:k+l]\n",
    "    hmd = HammingDistance(p,t[k:k+l])\n",
    "    #print str(k) + \" => \" + str(hmd)\n",
    "    if hmd <= d:\n",
    "        print (k, end = \" \")\n",
    "    k = k + 1\n",
    "    "
   ]
  },
  {
   "cell_type": "markdown",
   "metadata": {},
   "source": [
    "I"
   ]
  },
  {
   "cell_type": "code",
   "execution_count": 16,
   "metadata": {},
   "outputs": [
    {
     "name": "stdout",
     "output_type": "stream",
     "text": [
      "ATGT ATGC GATG\n"
     ]
    }
   ],
   "source": [
    "import itertools\n",
    "text = \"ACGTTGCATGTCGCATGATGCATGAGAGCT\"\n",
    "d = 1\n",
    "k = 4\n",
    "lst = list(map(''.join, itertools.product('ATGC', repeat=k)))\n",
    "\n",
    "i = 0\n",
    "mx = 0\n",
    "mxLst = []\n",
    "while i < len(lst):\n",
    "    j = 0\n",
    "    count = 0\n",
    "    while j < len(text) - k + 1:\n",
    "    #print t[k:k+l]\n",
    "        hmd = HammingDistance(lst[i],text[j:j+k])\n",
    "        #print str(j) + \" => \" + str(hmd)\n",
    "        if hmd <= 1:\n",
    "            count = count + 1\n",
    "        j = j + 1\n",
    "    \n",
    "    if count > mx :\n",
    "        mx = count\n",
    "        mxLst = []\n",
    "    if count == mx:\n",
    "        mxLst.append(lst[i])\n",
    "    #print lst[i] + \" = > \" + str(count)\n",
    "    i = i + 1\n",
    "    \n",
    "#print (mx)\n",
    "print (*mxLst)\n"
   ]
  },
  {
   "cell_type": "markdown",
   "metadata": {},
   "source": [
    "J"
   ]
  },
  {
   "cell_type": "code",
   "execution_count": null,
   "metadata": {},
   "outputs": [],
   "source": []
  }
 ],
 "metadata": {
  "kernelspec": {
   "display_name": "Python 3",
   "language": "python",
   "name": "python3"
  },
  "language_info": {
   "codemirror_mode": {
    "name": "ipython",
    "version": 3
   },
   "file_extension": ".py",
   "mimetype": "text/x-python",
   "name": "python",
   "nbconvert_exporter": "python",
   "pygments_lexer": "ipython3",
   "version": "3.6.5"
  }
 },
 "nbformat": 4,
 "nbformat_minor": 2
}
