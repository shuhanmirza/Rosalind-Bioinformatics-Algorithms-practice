{
 "cells": [
  {
   "cell_type": "markdown",
   "metadata": {},
   "source": [
    "A"
   ]
  },
  {
   "cell_type": "code",
   "execution_count": 1,
   "metadata": {},
   "outputs": [
    {
     "name": "stdout",
     "output_type": "stream",
     "text": [
      "AATCC\n",
      "ATCCA\n",
      "CAATC\n",
      "CCAAC\n",
      "TCCAA\n"
     ]
    }
   ],
   "source": [
    "def compostion(DNA,K):\n",
    "    pattern = []\n",
    "    i = 0\n",
    "    while i < len(DNA) - i + 1:\n",
    "        tmp = DNA[i:i+K]\n",
    "        #print (tmp)\n",
    "        pattern.append(tmp)\n",
    "        \n",
    "        i+=1\n",
    "        \n",
    "    pattern.sort()\n",
    "    \n",
    "    return pattern\n",
    "    \n",
    "    \n",
    "    \n",
    "DNA = 'CAATCCAAC'\n",
    "K = 5\n",
    "out = compostion(DNA,K)\n",
    "print (*out,sep = '\\n')"
   ]
  },
  {
   "cell_type": "markdown",
   "metadata": {},
   "source": [
    "B"
   ]
  },
  {
   "cell_type": "code",
   "execution_count": 2,
   "metadata": {},
   "outputs": [
    {
     "name": "stdout",
     "output_type": "stream",
     "text": [
      "ACCGAAGCT\n"
     ]
    }
   ],
   "source": [
    "def reconstruct(DNA):\n",
    "    i = 0\n",
    "    n = len(DNA)\n",
    "    str = ''\n",
    "    \n",
    "    while i < n-1:\n",
    "        str += DNA[i][0]\n",
    "        \n",
    "        i+=1\n",
    "    str+= DNA[n-1]\n",
    "    \n",
    "    return str\n",
    "\n",
    "DNA_list = ['ACCGA',\n",
    "'CCGAA',\n",
    "'CGAAG',\n",
    "'GAAGC',\n",
    "'AAGCT']\n",
    "\n",
    "print (reconstruct(DNA_list))"
   ]
  },
  {
   "cell_type": "markdown",
   "metadata": {},
   "source": [
    "C"
   ]
  },
  {
   "cell_type": "code",
   "execution_count": 3,
   "metadata": {},
   "outputs": [
    {
     "name": "stdout",
     "output_type": "stream",
     "text": [
      "GCATG -> CATGC\n",
      "CATGC -> ATGCG\n",
      "AGGCA -> GGCAT\n",
      "GGCAT -> GCATG\n"
     ]
    }
   ],
   "source": [
    "def overlap(DNA):\n",
    "    i = 0\n",
    "    AdjancyList = []\n",
    "    \n",
    "    while i < len(DNA):\n",
    "        j = 0\n",
    "        while j < len(DNA):\n",
    "            if i == j:\n",
    "                j+=1\n",
    "                continue;\n",
    "            l = len(DNA[i])\n",
    "            \n",
    "            suffix = DNA[i][1:]\n",
    "            prefix = DNA[j][:l-1]\n",
    "            \n",
    "            if suffix in prefix:\n",
    "                AdjancyList.append(DNA[i])\n",
    "                AdjancyList.append(DNA[j])\n",
    "            \n",
    "            j+=1\n",
    "        i+=1\n",
    "    return AdjancyList\n",
    "        \n",
    "\n",
    "DNA_list=['ATGCG',\n",
    "'GCATG',\n",
    "'CATGC',\n",
    "'AGGCA',\n",
    "'GGCAT']\n",
    "\n",
    "out = overlap(DNA_list)\n",
    "i = 0\n",
    "while i < len(out):\n",
    "    print(out[i] + ' -> ' + out[i+1])\n",
    "    i+=2"
   ]
  },
  {
   "cell_type": "markdown",
   "metadata": {},
   "source": [
    "D"
   ]
  },
  {
   "cell_type": "code",
   "execution_count": 4,
   "metadata": {},
   "outputs": [
    {
     "name": "stdout",
     "output_type": "stream",
     "text": [
      "AAG -> AGA\n",
      "AGA -> GAT\n",
      "ATT -> TTC\n",
      "CTA -> TAC\n",
      "CTC -> TCT\n",
      "GAT -> ATT\n",
      "TCT -> CTA,CTC\n",
      "TTC -> TCT\n"
     ]
    }
   ],
   "source": [
    "def debrujin(DNA,K):\n",
    "    \n",
    "    pattern = []\n",
    "    i = 0\n",
    "    while i < len(DNA) - K + 2:\n",
    "        tmp = DNA[i:i+K-1]\n",
    "        #print (tmp)\n",
    "        pattern.append(tmp)\n",
    "        \n",
    "        i+=1\n",
    "    pattern.sort()\n",
    "    \n",
    "    i = 0\n",
    "    AdjancyList = dict()\n",
    "    \n",
    "    while i < len(pattern):\n",
    "        j = 0\n",
    "        while j < len(pattern):\n",
    "            if i == j:\n",
    "                j+=1\n",
    "                continue;\n",
    "            l = len(pattern[i])\n",
    "            \n",
    "            suffix = pattern[i][1:]\n",
    "            prefix = pattern[j][:l-1]\n",
    "            \n",
    "            if suffix in prefix:\n",
    "                if pattern[i] in AdjancyList:\n",
    "                    if pattern[j] not in AdjancyList[pattern[i]]: \n",
    "                        AdjancyList[pattern[i]].append(pattern[j])\n",
    "                else:\n",
    "                    tmpList = []\n",
    "                    tmpList.append(pattern[j])\n",
    "                    AdjancyList[pattern[i]] = tmpList\n",
    "                    \n",
    "                #print (pattern[i] + ' => '+ pattern[j])\n",
    "                \n",
    "                \n",
    "                    \n",
    "            \n",
    "            j+=1\n",
    "        i+=1\n",
    "    return AdjancyList\n",
    "        \n",
    "\n",
    "DNA = 'AAGATTCTCTAC'\n",
    "K = 4\n",
    "outDict = debrujin(DNA,K)\n",
    "\n",
    "for x,y in outDict.items():\n",
    "    print (x +' -> ',end = \"\")\n",
    "    print(*y,sep = ',')"
   ]
  },
  {
   "cell_type": "markdown",
   "metadata": {},
   "source": [
    "E"
   ]
  },
  {
   "cell_type": "code",
   "execution_count": 5,
   "metadata": {},
   "outputs": [
    {
     "name": "stdout",
     "output_type": "stream",
     "text": [
      "GAG -> AGG\n",
      "CAG -> AGG\n",
      "GGG -> GGG,GGA\n",
      "AGG -> GGG\n",
      "GGA -> GAG\n"
     ]
    }
   ],
   "source": [
    "def debrujin2(AdjancyList,DNA,K):\n",
    "    \n",
    "    pattern = []\n",
    "    i = 0\n",
    "    while i < len(DNA) - K + 1:\n",
    "        tmp = DNA[i:i+K]\n",
    "        #print (tmp)\n",
    "        pattern.append(tmp)\n",
    "        \n",
    "        i+=1\n",
    "    pattern.sort()\n",
    "    \n",
    "    i = 0\n",
    "    while i < len(pattern):\n",
    "        j = 0\n",
    "        while j < len(pattern):\n",
    "            if i == j:\n",
    "                j+=1\n",
    "                continue;\n",
    "            l = len(pattern[i])\n",
    "            \n",
    "            suffix = pattern[i][1:]\n",
    "            prefix = pattern[j][:l-1]\n",
    "            \n",
    "            if suffix in prefix:\n",
    "                if pattern[i] in AdjancyList:\n",
    "                    if pattern[j] not in AdjancyList[pattern[i]]: \n",
    "                        AdjancyList[pattern[i]].append(pattern[j])\n",
    "                else:\n",
    "                    tmpList = []\n",
    "                    tmpList.append(pattern[j])\n",
    "                    AdjancyList[pattern[i]] = tmpList\n",
    "                    \n",
    "                #print (pattern[i] + ' => '+ pattern[j])\n",
    "            \n",
    "            j+=1\n",
    "        i+=1\n",
    "    return AdjancyList\n",
    "        \n",
    "\n",
    "DNA_list =[\n",
    "'GAGG',\n",
    "'CAGG',\n",
    "'GGGG',\n",
    "'GGGA',\n",
    "'CAGG',\n",
    "'AGGG',\n",
    "'GGAG'\n",
    "]\n",
    "\n",
    "Adjlist = dict()\n",
    "i = 0\n",
    "while i < len(DNA_list):\n",
    "    Adjlist = debrujin2(Adjlist,DNA_list[i],3)\n",
    "    i+=1\n",
    "\n",
    "for x,y in Adjlist.items():\n",
    "    print (x +' -> ',end = \"\")\n",
    "    print(*y,sep = ',')\n"
   ]
  }
 ],
 "metadata": {
  "kernelspec": {
   "display_name": "Python 3",
   "language": "python",
   "name": "python3"
  },
  "language_info": {
   "codemirror_mode": {
    "name": "ipython",
    "version": 3
   },
   "file_extension": ".py",
   "mimetype": "text/x-python",
   "name": "python",
   "nbconvert_exporter": "python",
   "pygments_lexer": "ipython3",
   "version": "3.6.5"
  }
 },
 "nbformat": 4,
 "nbformat_minor": 2
}
